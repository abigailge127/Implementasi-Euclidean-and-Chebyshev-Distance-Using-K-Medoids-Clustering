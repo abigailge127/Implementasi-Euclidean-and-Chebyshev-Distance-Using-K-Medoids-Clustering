{
 "cells": [
  {
   "cell_type": "code",
   "execution_count": 1,
   "id": "252e7530",
   "metadata": {},
   "outputs": [],
   "source": [
    "#import library algoritma yang diperlukan\n",
    "from sklearn_extra.cluster import KMedoids\n",
    "from sklearn.metrics import silhouette_samples, silhouette_score\n",
    "import numpy as np\n",
    "import pandas as pd\n",
    "import matplotlib.pyplot as plt\n",
    "from sklearn.preprocessing import MinMaxScaler\n",
    "from sklearn.preprocessing import StandardScaler\n",
    "import csv\n"
   ]
  },
  {
   "cell_type": "code",
   "execution_count": 2,
   "id": "1c90e373",
   "metadata": {},
   "outputs": [
    {
     "data": {
      "text/html": [
       "<div>\n",
       "<style scoped>\n",
       "    .dataframe tbody tr th:only-of-type {\n",
       "        vertical-align: middle;\n",
       "    }\n",
       "\n",
       "    .dataframe tbody tr th {\n",
       "        vertical-align: top;\n",
       "    }\n",
       "\n",
       "    .dataframe thead th {\n",
       "        text-align: right;\n",
       "    }\n",
       "</style>\n",
       "<table border=\"1\" class=\"dataframe\">\n",
       "  <thead>\n",
       "    <tr style=\"text-align: right;\">\n",
       "      <th></th>\n",
       "      <th>CATEGORY</th>\n",
       "      <th>TOTAL2021</th>\n",
       "    </tr>\n",
       "  </thead>\n",
       "  <tbody>\n",
       "    <tr>\n",
       "      <th>0</th>\n",
       "      <td>4</td>\n",
       "      <td>5647</td>\n",
       "    </tr>\n",
       "    <tr>\n",
       "      <th>1</th>\n",
       "      <td>1</td>\n",
       "      <td>503520</td>\n",
       "    </tr>\n",
       "    <tr>\n",
       "      <th>2</th>\n",
       "      <td>5</td>\n",
       "      <td>4119</td>\n",
       "    </tr>\n",
       "    <tr>\n",
       "      <th>3</th>\n",
       "      <td>3</td>\n",
       "      <td>13476</td>\n",
       "    </tr>\n",
       "    <tr>\n",
       "      <th>4</th>\n",
       "      <td>2</td>\n",
       "      <td>146520</td>\n",
       "    </tr>\n",
       "  </tbody>\n",
       "</table>\n",
       "</div>"
      ],
      "text/plain": [
       "   CATEGORY  TOTAL2021\n",
       "0         4       5647\n",
       "1         1     503520\n",
       "2         5       4119\n",
       "3         3      13476\n",
       "4         2     146520"
      ]
     },
     "execution_count": 2,
     "metadata": {},
     "output_type": "execute_result"
    }
   ],
   "source": [
    "#memanggil data dengan format csv\n",
    "data = \"D:/coding/category2.csv\"\n",
    "gaikindo = pd.read_csv(data)\n",
    "gaikindo.head()"
   ]
  },
  {
   "cell_type": "code",
   "execution_count": 3,
   "id": "7e13b882",
   "metadata": {},
   "outputs": [
    {
     "name": "stdout",
     "output_type": "stream",
     "text": [
      "<class 'pandas.core.frame.DataFrame'>\n",
      "RangeIndex: 5 entries, 0 to 4\n",
      "Data columns (total 2 columns):\n",
      " #   Column     Non-Null Count  Dtype\n",
      "---  ------     --------------  -----\n",
      " 0   CATEGORY   5 non-null      int64\n",
      " 1   TOTAL2021  5 non-null      int64\n",
      "dtypes: int64(2)\n",
      "memory usage: 208.0 bytes\n"
     ]
    }
   ],
   "source": [
    "#melihat type data\n",
    "gaikindo.info()"
   ]
  },
  {
   "cell_type": "code",
   "execution_count": 4,
   "id": "2ff035ff",
   "metadata": {},
   "outputs": [
    {
     "data": {
      "text/html": [
       "<div>\n",
       "<style scoped>\n",
       "    .dataframe tbody tr th:only-of-type {\n",
       "        vertical-align: middle;\n",
       "    }\n",
       "\n",
       "    .dataframe tbody tr th {\n",
       "        vertical-align: top;\n",
       "    }\n",
       "\n",
       "    .dataframe thead th {\n",
       "        text-align: right;\n",
       "    }\n",
       "</style>\n",
       "<table border=\"1\" class=\"dataframe\">\n",
       "  <thead>\n",
       "    <tr style=\"text-align: right;\">\n",
       "      <th></th>\n",
       "      <th>CATEGORY</th>\n",
       "      <th>TOTAL2021</th>\n",
       "    </tr>\n",
       "  </thead>\n",
       "  <tbody>\n",
       "    <tr>\n",
       "      <th>0</th>\n",
       "      <td>4</td>\n",
       "      <td>5647</td>\n",
       "    </tr>\n",
       "    <tr>\n",
       "      <th>1</th>\n",
       "      <td>1</td>\n",
       "      <td>503520</td>\n",
       "    </tr>\n",
       "    <tr>\n",
       "      <th>2</th>\n",
       "      <td>5</td>\n",
       "      <td>4119</td>\n",
       "    </tr>\n",
       "    <tr>\n",
       "      <th>3</th>\n",
       "      <td>3</td>\n",
       "      <td>13476</td>\n",
       "    </tr>\n",
       "    <tr>\n",
       "      <th>4</th>\n",
       "      <td>2</td>\n",
       "      <td>146520</td>\n",
       "    </tr>\n",
       "  </tbody>\n",
       "</table>\n",
       "</div>"
      ],
      "text/plain": [
       "   CATEGORY  TOTAL2021\n",
       "0         4       5647\n",
       "1         1     503520\n",
       "2         5       4119\n",
       "3         3      13476\n",
       "4         2     146520"
      ]
     },
     "execution_count": 4,
     "metadata": {},
     "output_type": "execute_result"
    }
   ],
   "source": [
    "#memilih kolom yang akan digunakan\n",
    "gaikindo_x = gaikindo.iloc[:, 0:2]\n",
    "gaikindo_x.head()"
   ]
  },
  {
   "cell_type": "code",
   "execution_count": 5,
   "id": "a1aa3ad8",
   "metadata": {},
   "outputs": [
    {
     "name": "stdout",
     "output_type": "stream",
     "text": [
      "[[     4   5647]\n",
      " [     1 503520]\n",
      " [     5   4119]\n",
      " [     3  13476]\n",
      " [     2 146520]]\n"
     ]
    }
   ],
   "source": [
    "#mengubah data ke dalam bentuk array\n",
    "x_array = np.asarray(gaikindo_x)\n",
    "print(x_array)"
   ]
  },
  {
   "cell_type": "code",
   "execution_count": 6,
   "id": "438e31a6",
   "metadata": {},
   "outputs": [
    {
     "data": {
      "text/plain": [
       "array([[0.75      , 0.00305967],\n",
       "       [0.        , 1.        ],\n",
       "       [1.        , 0.        ],\n",
       "       [0.5       , 0.01873645],\n",
       "       [0.25      , 0.2851436 ]])"
      ]
     },
     "execution_count": 6,
     "metadata": {},
     "output_type": "execute_result"
    }
   ],
   "source": [
    "#normalisasi data dengan min-max normalization\n",
    "scaler = MinMaxScaler()\n",
    "x_scaled = scaler.fit_transform(x_array)\n",
    "x_scaled"
   ]
  },
  {
   "cell_type": "code",
   "execution_count": 7,
   "id": "e3f71327",
   "metadata": {},
   "outputs": [],
   "source": [
    "#proses perhitungan clustering menggunakan euclidean distance\n",
    "kmedoids = KMedoids(n_clusters=2, metric=\"euclidean\", init='heuristic', max_iter=3).fit(x_scaled)"
   ]
  },
  {
   "cell_type": "code",
   "execution_count": 8,
   "id": "f5042ee1",
   "metadata": {},
   "outputs": [
    {
     "data": {
      "text/plain": [
       "array([1, 0, 1, 1, 0], dtype=int64)"
      ]
     },
     "execution_count": 8,
     "metadata": {},
     "output_type": "execute_result"
    }
   ],
   "source": [
    "#melihat label hasil clustering\n",
    "kmedoids.labels_"
   ]
  },
  {
   "cell_type": "code",
   "execution_count": 9,
   "id": "6e630297",
   "metadata": {},
   "outputs": [
    {
     "data": {
      "text/plain": [
       "array([[0.25      , 0.2851436 ],\n",
       "       [0.75      , 0.00305967]])"
      ]
     },
     "execution_count": 9,
     "metadata": {},
     "output_type": "execute_result"
    }
   ],
   "source": [
    "#melihat medoid yang digunakan\n",
    "kmedoids.cluster_centers_"
   ]
  },
  {
   "cell_type": "code",
   "execution_count": 10,
   "id": "c7cfcf3e",
   "metadata": {},
   "outputs": [
    {
     "name": "stdout",
     "output_type": "stream",
     "text": [
      "   CATEGORY  TOTAL2021  Cluster\n",
      "0         4       5647        1\n",
      "1         1     503520        0\n",
      "2         5       4119        1\n",
      "3         3      13476        1\n",
      "4         2     146520        0\n"
     ]
    }
   ],
   "source": [
    "#hasil cluster\n",
    "gaikindo[\"Cluster\"] = kmedoids.labels_\n",
    "print(gaikindo)"
   ]
  },
  {
   "cell_type": "code",
   "execution_count": 11,
   "id": "68ef194a",
   "metadata": {},
   "outputs": [
    {
     "data": {
      "text/plain": [
       "0.5218879587966514"
      ]
     },
     "execution_count": 11,
     "metadata": {},
     "output_type": "execute_result"
    }
   ],
   "source": [
    "#validasi silhouette coefficient\n",
    "silhouette_score(gaikindo, kmedoids.labels_)"
   ]
  },
  {
   "cell_type": "code",
   "execution_count": 13,
   "id": "748210d3",
   "metadata": {},
   "outputs": [],
   "source": [
    "gaikindo.to_csv(\"D:/coding/Euclidean_Category_result2.csv\", index= False)"
   ]
  },
  {
   "cell_type": "code",
   "execution_count": 67,
   "id": "1cf785b8",
   "metadata": {},
   "outputs": [],
   "source": [
    "#plt.scatter(gaikindo.CATEGORY, gaikindo.TOTAL2021,  c = \"blue\")\n",
    "#plt.show()"
   ]
  }
 ],
 "metadata": {
  "kernelspec": {
   "display_name": "Python 3 (ipykernel)",
   "language": "python",
   "name": "python3"
  },
  "language_info": {
   "codemirror_mode": {
    "name": "ipython",
    "version": 3
   },
   "file_extension": ".py",
   "mimetype": "text/x-python",
   "name": "python",
   "nbconvert_exporter": "python",
   "pygments_lexer": "ipython3",
   "version": "3.8.5"
  }
 },
 "nbformat": 4,
 "nbformat_minor": 5
}
