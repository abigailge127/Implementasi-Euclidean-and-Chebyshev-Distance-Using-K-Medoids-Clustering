{
 "cells": [
  {
   "cell_type": "code",
   "execution_count": 2,
   "id": "23678db5",
   "metadata": {},
   "outputs": [],
   "source": [
    "from sklearn_extra.cluster import KMedoids\n",
    "from sklearn.metrics import silhouette_samples, silhouette_score\n",
    "import numpy as np\n",
    "import pandas as pd\n",
    "import matplotlib.pyplot as plt\n",
    "from sklearn.preprocessing import MinMaxScaler\n",
    "from sklearn.preprocessing import StandardScaler\n",
    "import csv"
   ]
  },
  {
   "cell_type": "code",
   "execution_count": 3,
   "id": "0398ad96",
   "metadata": {},
   "outputs": [
    {
     "data": {
      "text/html": [
       "<div>\n",
       "<style scoped>\n",
       "    .dataframe tbody tr th:only-of-type {\n",
       "        vertical-align: middle;\n",
       "    }\n",
       "\n",
       "    .dataframe tbody tr th {\n",
       "        vertical-align: top;\n",
       "    }\n",
       "\n",
       "    .dataframe thead th {\n",
       "        text-align: right;\n",
       "    }\n",
       "</style>\n",
       "<table border=\"1\" class=\"dataframe\">\n",
       "  <thead>\n",
       "    <tr style=\"text-align: right;\">\n",
       "      <th></th>\n",
       "      <th>BRAND</th>\n",
       "      <th>TOTAL2021</th>\n",
       "    </tr>\n",
       "  </thead>\n",
       "  <tbody>\n",
       "    <tr>\n",
       "      <th>0</th>\n",
       "      <td>0.0952</td>\n",
       "      <td>0.3106</td>\n",
       "    </tr>\n",
       "    <tr>\n",
       "      <th>1</th>\n",
       "      <td>0.3810</td>\n",
       "      <td>0.0101</td>\n",
       "    </tr>\n",
       "    <tr>\n",
       "      <th>2</th>\n",
       "      <td>0.5238</td>\n",
       "      <td>0.0070</td>\n",
       "    </tr>\n",
       "    <tr>\n",
       "      <th>3</th>\n",
       "      <td>0.0000</td>\n",
       "      <td>1.0000</td>\n",
       "    </tr>\n",
       "    <tr>\n",
       "      <th>4</th>\n",
       "      <td>1.0000</td>\n",
       "      <td>0.0000</td>\n",
       "    </tr>\n",
       "  </tbody>\n",
       "</table>\n",
       "</div>"
      ],
      "text/plain": [
       "    BRAND  TOTAL2021\n",
       "0  0.0952     0.3106\n",
       "1  0.3810     0.0101\n",
       "2  0.5238     0.0070\n",
       "3  0.0000     1.0000\n",
       "4  1.0000     0.0000"
      ]
     },
     "execution_count": 3,
     "metadata": {},
     "output_type": "execute_result"
    }
   ],
   "source": [
    "pandas = pd\n",
    "data = \"D:/coding/brand2.csv\"\n",
    "gaikindo = pd.read_csv(data)\n",
    "gaikindo.head()"
   ]
  },
  {
   "cell_type": "code",
   "execution_count": 4,
   "id": "d3f0e7fe",
   "metadata": {},
   "outputs": [
    {
     "data": {
      "text/html": [
       "<div>\n",
       "<style scoped>\n",
       "    .dataframe tbody tr th:only-of-type {\n",
       "        vertical-align: middle;\n",
       "    }\n",
       "\n",
       "    .dataframe tbody tr th {\n",
       "        vertical-align: top;\n",
       "    }\n",
       "\n",
       "    .dataframe thead th {\n",
       "        text-align: right;\n",
       "    }\n",
       "</style>\n",
       "<table border=\"1\" class=\"dataframe\">\n",
       "  <thead>\n",
       "    <tr style=\"text-align: right;\">\n",
       "      <th></th>\n",
       "      <th>BRAND</th>\n",
       "      <th>TOTAL2021</th>\n",
       "    </tr>\n",
       "  </thead>\n",
       "  <tbody>\n",
       "    <tr>\n",
       "      <th>17</th>\n",
       "      <td>0.1905</td>\n",
       "      <td>0.1327</td>\n",
       "    </tr>\n",
       "    <tr>\n",
       "      <th>18</th>\n",
       "      <td>0.7619</td>\n",
       "      <td>0.0012</td>\n",
       "    </tr>\n",
       "    <tr>\n",
       "      <th>19</th>\n",
       "      <td>0.2381</td>\n",
       "      <td>0.0871</td>\n",
       "    </tr>\n",
       "    <tr>\n",
       "      <th>20</th>\n",
       "      <td>0.8095</td>\n",
       "      <td>0.0009</td>\n",
       "    </tr>\n",
       "    <tr>\n",
       "      <th>21</th>\n",
       "      <td>0.8571</td>\n",
       "      <td>0.0008</td>\n",
       "    </tr>\n",
       "  </tbody>\n",
       "</table>\n",
       "</div>"
      ],
      "text/plain": [
       "     BRAND  TOTAL2021\n",
       "17  0.1905     0.1327\n",
       "18  0.7619     0.0012\n",
       "19  0.2381     0.0871\n",
       "20  0.8095     0.0009\n",
       "21  0.8571     0.0008"
      ]
     },
     "execution_count": 4,
     "metadata": {},
     "output_type": "execute_result"
    }
   ],
   "source": [
    "gaikindo.tail()"
   ]
  },
  {
   "cell_type": "code",
   "execution_count": 5,
   "id": "039ad3cf",
   "metadata": {},
   "outputs": [
    {
     "name": "stdout",
     "output_type": "stream",
     "text": [
      "<class 'pandas.core.frame.DataFrame'>\n",
      "RangeIndex: 22 entries, 0 to 21\n",
      "Data columns (total 2 columns):\n",
      " #   Column     Non-Null Count  Dtype  \n",
      "---  ------     --------------  -----  \n",
      " 0   BRAND      22 non-null     float64\n",
      " 1   TOTAL2021  22 non-null     float64\n",
      "dtypes: float64(2)\n",
      "memory usage: 480.0 bytes\n"
     ]
    }
   ],
   "source": [
    "gaikindo.info()"
   ]
  },
  {
   "cell_type": "code",
   "execution_count": 6,
   "id": "de087f8d",
   "metadata": {},
   "outputs": [
    {
     "data": {
      "text/html": [
       "<div>\n",
       "<style scoped>\n",
       "    .dataframe tbody tr th:only-of-type {\n",
       "        vertical-align: middle;\n",
       "    }\n",
       "\n",
       "    .dataframe tbody tr th {\n",
       "        vertical-align: top;\n",
       "    }\n",
       "\n",
       "    .dataframe thead th {\n",
       "        text-align: right;\n",
       "    }\n",
       "</style>\n",
       "<table border=\"1\" class=\"dataframe\">\n",
       "  <thead>\n",
       "    <tr style=\"text-align: right;\">\n",
       "      <th></th>\n",
       "      <th>BRAND</th>\n",
       "      <th>TOTAL2021</th>\n",
       "    </tr>\n",
       "  </thead>\n",
       "  <tbody>\n",
       "    <tr>\n",
       "      <th>0</th>\n",
       "      <td>0.0952</td>\n",
       "      <td>0.3106</td>\n",
       "    </tr>\n",
       "    <tr>\n",
       "      <th>1</th>\n",
       "      <td>0.3810</td>\n",
       "      <td>0.0101</td>\n",
       "    </tr>\n",
       "    <tr>\n",
       "      <th>2</th>\n",
       "      <td>0.5238</td>\n",
       "      <td>0.0070</td>\n",
       "    </tr>\n",
       "    <tr>\n",
       "      <th>3</th>\n",
       "      <td>0.0000</td>\n",
       "      <td>1.0000</td>\n",
       "    </tr>\n",
       "    <tr>\n",
       "      <th>4</th>\n",
       "      <td>1.0000</td>\n",
       "      <td>0.0000</td>\n",
       "    </tr>\n",
       "  </tbody>\n",
       "</table>\n",
       "</div>"
      ],
      "text/plain": [
       "    BRAND  TOTAL2021\n",
       "0  0.0952     0.3106\n",
       "1  0.3810     0.0101\n",
       "2  0.5238     0.0070\n",
       "3  0.0000     1.0000\n",
       "4  1.0000     0.0000"
      ]
     },
     "execution_count": 6,
     "metadata": {},
     "output_type": "execute_result"
    }
   ],
   "source": [
    "gaikindo_x = gaikindo.iloc[:, 0:2]\n",
    "gaikindo_x.head()"
   ]
  },
  {
   "cell_type": "code",
   "execution_count": 7,
   "id": "4b08e5b5",
   "metadata": {},
   "outputs": [
    {
     "name": "stdout",
     "output_type": "stream",
     "text": [
      "[[9.520e-02 3.106e-01]\n",
      " [3.810e-01 1.010e-02]\n",
      " [5.238e-01 7.000e-03]\n",
      " [0.000e+00 1.000e+00]\n",
      " [1.000e+00 0.000e+00]\n",
      " [4.762e-01 8.000e-03]\n",
      " [6.190e-01 3.200e-03]\n",
      " [2.857e-01 1.140e-02]\n",
      " [4.760e-02 4.212e-01]\n",
      " [6.667e-01 2.100e-03]\n",
      " [9.048e-01 4.000e-04]\n",
      " [4.286e-01 9.300e-03]\n",
      " [5.714e-01 3.500e-03]\n",
      " [7.143e-01 2.100e-03]\n",
      " [1.429e-01 2.710e-01]\n",
      " [3.333e-01 1.070e-02]\n",
      " [9.524e-01 0.000e+00]\n",
      " [1.905e-01 1.327e-01]\n",
      " [7.619e-01 1.200e-03]\n",
      " [2.381e-01 8.710e-02]\n",
      " [8.095e-01 9.000e-04]\n",
      " [8.571e-01 8.000e-04]]\n"
     ]
    }
   ],
   "source": [
    "x_array = np.asarray(gaikindo_x)\n",
    "print(x_array)"
   ]
  },
  {
   "cell_type": "code",
   "execution_count": 8,
   "id": "97ab7b57",
   "metadata": {},
   "outputs": [],
   "source": [
    "#scaler = MinMaxScaler()\n",
    "#x_scaled = scaler.fit_transform(x_array)\n",
    "#x_scaled"
   ]
  },
  {
   "cell_type": "code",
   "execution_count": 9,
   "id": "386441d6",
   "metadata": {},
   "outputs": [],
   "source": [
    "kmedoids = KMedoids(n_clusters=2, metric=\"chebyshev\", init='heuristic', max_iter=2).fit(x_array)"
   ]
  },
  {
   "cell_type": "code",
   "execution_count": 10,
   "id": "79b5d275",
   "metadata": {},
   "outputs": [
    {
     "data": {
      "text/plain": [
       "array([1, 1, 0, 1, 0, 1, 0, 1, 1, 0, 0, 1, 0, 0, 1, 1, 0, 1, 0, 1, 0, 0],\n",
       "      dtype=int64)"
      ]
     },
     "execution_count": 10,
     "metadata": {},
     "output_type": "execute_result"
    }
   ],
   "source": [
    "kmedoids.labels_"
   ]
  },
  {
   "cell_type": "code",
   "execution_count": 11,
   "id": "567c17ca",
   "metadata": {},
   "outputs": [
    {
     "data": {
      "text/plain": [
       "array([[0.7619, 0.0012],\n",
       "       [0.2381, 0.0871]])"
      ]
     },
     "execution_count": 11,
     "metadata": {},
     "output_type": "execute_result"
    }
   ],
   "source": [
    "kmedoids.cluster_centers_"
   ]
  },
  {
   "cell_type": "code",
   "execution_count": 12,
   "id": "d6ef4585",
   "metadata": {},
   "outputs": [
    {
     "name": "stdout",
     "output_type": "stream",
     "text": [
      "     BRAND  TOTAL2021  Cluster\n",
      "0   0.0952     0.3106        1\n",
      "1   0.3810     0.0101        1\n",
      "2   0.5238     0.0070        0\n",
      "3   0.0000     1.0000        1\n",
      "4   1.0000     0.0000        0\n",
      "5   0.4762     0.0080        1\n",
      "6   0.6190     0.0032        0\n",
      "7   0.2857     0.0114        1\n",
      "8   0.0476     0.4212        1\n",
      "9   0.6667     0.0021        0\n",
      "10  0.9048     0.0004        0\n",
      "11  0.4286     0.0093        1\n",
      "12  0.5714     0.0035        0\n",
      "13  0.7143     0.0021        0\n",
      "14  0.1429     0.2710        1\n",
      "15  0.3333     0.0107        1\n",
      "16  0.9524     0.0000        0\n",
      "17  0.1905     0.1327        1\n",
      "18  0.7619     0.0012        0\n",
      "19  0.2381     0.0871        1\n",
      "20  0.8095     0.0009        0\n",
      "21  0.8571     0.0008        0\n"
     ]
    }
   ],
   "source": [
    "gaikindo[\"Cluster\"] = kmedoids.labels_\n",
    "print(gaikindo)"
   ]
  },
  {
   "cell_type": "code",
   "execution_count": 13,
   "id": "4bd98895",
   "metadata": {},
   "outputs": [
    {
     "data": {
      "text/plain": [
       "0.7670626160372307"
      ]
     },
     "execution_count": 13,
     "metadata": {},
     "output_type": "execute_result"
    }
   ],
   "source": [
    "silhouette_score(gaikindo, kmedoids.labels_)"
   ]
  },
  {
   "cell_type": "code",
   "execution_count": 14,
   "id": "5c22e4c1",
   "metadata": {},
   "outputs": [],
   "source": [
    "gaikindo.to_csv(\"D:/coding/Chebyshev_Brand2_result.csv\", index= False)"
   ]
  },
  {
   "cell_type": "code",
   "execution_count": null,
   "id": "4fcbcf12",
   "metadata": {},
   "outputs": [],
   "source": []
  }
 ],
 "metadata": {
  "kernelspec": {
   "display_name": "Python 3 (ipykernel)",
   "language": "python",
   "name": "python3"
  },
  "language_info": {
   "codemirror_mode": {
    "name": "ipython",
    "version": 3
   },
   "file_extension": ".py",
   "mimetype": "text/x-python",
   "name": "python",
   "nbconvert_exporter": "python",
   "pygments_lexer": "ipython3",
   "version": "3.8.5"
  }
 },
 "nbformat": 4,
 "nbformat_minor": 5
}
